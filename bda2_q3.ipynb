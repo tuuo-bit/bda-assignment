{
  "nbformat": 4,
  "nbformat_minor": 0,
  "metadata": {
    "colab": {
      "provenance": [],
      "authorship_tag": "ABX9TyP0njpyead01Ae0mlW/ILfy"
    },
    "kernelspec": {
      "name": "python3",
      "display_name": "Python 3"
    },
    "language_info": {
      "name": "python"
    }
  },
  "cells": [
    {
      "cell_type": "code",
      "execution_count": null,
      "metadata": {
        "id": "4X1Hvk_I0j52"
      },
      "outputs": [],
      "source": [
        "from pyspark.sql import SparkSession\n",
        "from pyspark.ml.recommendation import ALS\n",
        "from pyspark.ml.evaluation import RegressionEvaluator"
      ]
    },
    {
      "cell_type": "code",
      "source": [
        "spark = SparkSession.builder.appName(\"Q3\").getOrCreate()"
      ],
      "metadata": {
        "id": "tsG6y3oI1KyG"
      },
      "execution_count": null,
      "outputs": []
    },
    {
      "cell_type": "code",
      "source": [
        "ratings = spark.read.csv(\"/content/ratings.csv\", header=True, inferSchema=True)\n",
        "ratings.show(5)\n",
        "\n",
        "movies = spark.read.csv(\"/content/movies.csv\", header=True, inferSchema=True)\n",
        "movies.show(5)"
      ],
      "metadata": {
        "colab": {
          "base_uri": "https://localhost:8080/"
        },
        "id": "bYngKM5k1xId",
        "outputId": "d92aa1fd-d18d-44a9-aa33-d9afd6cb0087"
      },
      "execution_count": null,
      "outputs": [
        {
          "output_type": "stream",
          "name": "stdout",
          "text": [
            "+------+-------+------+---------+\n",
            "|userId|movieId|rating|timestamp|\n",
            "+------+-------+------+---------+\n",
            "|     1|      1|   4.0|964982703|\n",
            "|     1|      3|   4.0|964981247|\n",
            "|     1|      6|   4.0|964982224|\n",
            "|     1|     47|   5.0|964983815|\n",
            "|     1|     50|   5.0|964982931|\n",
            "+------+-------+------+---------+\n",
            "only showing top 5 rows\n",
            "\n",
            "+-------+--------------------+--------------------+\n",
            "|movieId|               title|              genres|\n",
            "+-------+--------------------+--------------------+\n",
            "|      1|    Toy Story (1995)|Adventure|Animati...|\n",
            "|      2|      Jumanji (1995)|Adventure|Childre...|\n",
            "|      3|Grumpier Old Men ...|      Comedy|Romance|\n",
            "|      4|Waiting to Exhale...|Comedy|Drama|Romance|\n",
            "|      5|Father of the Bri...|              Comedy|\n",
            "+-------+--------------------+--------------------+\n",
            "only showing top 5 rows\n",
            "\n"
          ]
        }
      ]
    },
    {
      "cell_type": "code",
      "source": [
        "data = ratings.select(\"userId\", \"movieId\", \"rating\")\n",
        "\n",
        "(training, test) = data.randomSplit([0.8, 0.2], seed=42)"
      ],
      "metadata": {
        "id": "ntRlfpAD1xxQ"
      },
      "execution_count": null,
      "outputs": []
    },
    {
      "cell_type": "code",
      "source": [
        "als = ALS(\n",
        "    userCol=\"userId\",\n",
        "    itemCol=\"movieId\",\n",
        "    ratingCol=\"rating\",\n",
        "    coldStartStrategy=\"drop\",  # avoid NaN predictions\n",
        "    nonnegative=True,\n",
        "    implicitPrefs=False,\n",
        "    rank=10,\n",
        "    maxIter=10,\n",
        "    regParam=0.1\n",
        ")\n",
        "\n",
        "model = als.fit(training)\n",
        "\n",
        "predictions = model.transform(test)\n",
        "predictions.show(5)\n",
        "\n",
        "evaluator = RegressionEvaluator(\n",
        "    metricName=\"rmse\",\n",
        "    labelCol=\"rating\",\n",
        "    predictionCol=\"prediction\"\n",
        ")\n",
        "\n",
        "rmse = evaluator.evaluate(predictions)\n",
        "print(f\"Root-mean-square error = {rmse:.2f}\")"
      ],
      "metadata": {
        "colab": {
          "base_uri": "https://localhost:8080/"
        },
        "id": "jO6HJP8310aA",
        "outputId": "8688160b-2d7e-43ec-a7d4-811d90279562"
      },
      "execution_count": null,
      "outputs": [
        {
          "output_type": "stream",
          "name": "stdout",
          "text": [
            "+------+-------+------+----------+\n",
            "|userId|movieId|rating|prediction|\n",
            "+------+-------+------+----------+\n",
            "|   148|   4896|   4.0|  3.429373|\n",
            "|   148|   5618|   3.0| 3.6807697|\n",
            "|   148|   7153|   3.0| 3.4784653|\n",
            "|   148|  40629|   5.0| 3.2575603|\n",
            "|   148|  40815|   4.0| 3.5905585|\n",
            "+------+-------+------+----------+\n",
            "only showing top 5 rows\n",
            "\n",
            "Root-mean-square error = 0.89\n"
          ]
        }
      ]
    },
    {
      "cell_type": "code",
      "source": [
        "\n",
        "from pyspark.sql.functions import explode\n",
        "user_recs = model.recommendForAllUsers(5)\n",
        "\n",
        "user_recs_exploded = user_recs.select(\"userId\", explode(\"recommendations\").alias(\"rec\"))\n",
        "user_recs_flat = user_recs_exploded.select(\n",
        "    \"userId\",\n",
        "    user_recs_exploded.rec.movieId.alias(\"movieId\"),\n",
        "    user_recs_exploded.rec.rating.alias(\"predicted_rating\")\n",
        ")\n",
        "\n",
        "# user_recs_flat.show(5)\n",
        "\n",
        "user_recs_with_titles = user_recs_flat.join(movies, on=\"movieId\")\n",
        "user_recs_with_titles.show(5)\n",
        "\n",
        "user_recs_with_titles.select(\"userId\", \"title\", \"predicted_rating\").show(10, truncate=False)"
      ],
      "metadata": {
        "colab": {
          "base_uri": "https://localhost:8080/"
        },
        "id": "l61RXxv013Ao",
        "outputId": "97d4d8bd-2b5d-4fd0-fae6-f1d69c38d513"
      },
      "execution_count": null,
      "outputs": [
        {
          "output_type": "stream",
          "name": "stdout",
          "text": [
            "+-------+------+----------------+--------------------+------------------+\n",
            "|movieId|userId|predicted_rating|               title|            genres|\n",
            "+-------+------+----------------+--------------------+------------------+\n",
            "| 184245|     1|       5.8248386|De platte jungle ...|       Documentary|\n",
            "| 171495|     1|       5.8248386|              Cosmos|(no genres listed)|\n",
            "| 134796|     1|       5.8248386|  Bitter Lake (2015)|       Documentary|\n",
            "| 117531|     1|       5.8248386|    Watermark (2014)|       Documentary|\n",
            "|  86237|     1|       5.8248386|  Connections (1978)|       Documentary|\n",
            "+-------+------+----------------+--------------------+------------------+\n",
            "only showing top 5 rows\n",
            "\n",
            "+------+----------------------------------------------------+----------------+\n",
            "|userId|title                                               |predicted_rating|\n",
            "+------+----------------------------------------------------+----------------+\n",
            "|1     |De platte jungle (1978)                             |5.8248386       |\n",
            "|1     |Cosmos                                              |5.8248386       |\n",
            "|1     |Bitter Lake (2015)                                  |5.8248386       |\n",
            "|1     |Watermark (2014)                                    |5.8248386       |\n",
            "|1     |Connections (1978)                                  |5.8248386       |\n",
            "|2     |The Jinx: The Life and Deaths of Robert Durst (2015)|4.9212575       |\n",
            "|2     |De platte jungle (1978)                             |4.844543        |\n",
            "|2     |Cosmos                                              |4.844543        |\n",
            "|2     |Bitter Lake (2015)                                  |4.844543        |\n",
            "|2     |Watermark (2014)                                    |4.844543        |\n",
            "+------+----------------------------------------------------+----------------+\n",
            "only showing top 10 rows\n",
            "\n"
          ]
        }
      ]
    }
  ]
}