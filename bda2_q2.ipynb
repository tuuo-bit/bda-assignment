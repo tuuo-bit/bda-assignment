{
  "nbformat": 4,
  "nbformat_minor": 0,
  "metadata": {
    "colab": {
      "provenance": []
    },
    "kernelspec": {
      "name": "python3",
      "display_name": "Python 3"
    },
    "language_info": {
      "name": "python"
    }
  },
  "cells": [
    {
      "cell_type": "code",
      "source": [
        "!pip install pyspark"
      ],
      "metadata": {
        "colab": {
          "base_uri": "https://localhost:8080/"
        },
        "id": "e7SVuDbZbUgA",
        "outputId": "b16a8ff9-2493-4523-d965-a62f120cf48c"
      },
      "execution_count": null,
      "outputs": [
        {
          "output_type": "stream",
          "name": "stdout",
          "text": [
            "Requirement already satisfied: pyspark in /usr/local/lib/python3.11/dist-packages (3.5.5)\n",
            "Requirement already satisfied: py4j==0.10.9.7 in /usr/local/lib/python3.11/dist-packages (from pyspark) (0.10.9.7)\n"
          ]
        }
      ]
    },
    {
      "cell_type": "code",
      "source": [
        "from pyspark.sql import SparkSession\n",
        "from pyspark.ml.feature import VectorAssembler, StandardScaler\n",
        "from pyspark.ml.clustering import KMeans\n",
        "from pyspark.ml.evaluation import ClusteringEvaluator"
      ],
      "metadata": {
        "id": "upHnIELJb4lQ"
      },
      "execution_count": null,
      "outputs": []
    },
    {
      "cell_type": "code",
      "source": [
        "spark = SparkSession.builder.appName(\"Q2\").getOrCreate()"
      ],
      "metadata": {
        "id": "0ANlKLqqb8tN"
      },
      "execution_count": null,
      "outputs": []
    },
    {
      "cell_type": "code",
      "source": [
        "data = spark.read.csv(\"/content/Online Retail.csv\", header=True, inferSchema=True)\n",
        "data.show(5)"
      ],
      "metadata": {
        "colab": {
          "base_uri": "https://localhost:8080/"
        },
        "id": "wzldK82tYgBq",
        "outputId": "e8c7d13b-8b29-46ef-f55d-873f5bf04d84"
      },
      "execution_count": null,
      "outputs": [
        {
          "output_type": "stream",
          "name": "stdout",
          "text": [
            "+---------+---------+--------------------+--------+----------------+---------+----------+--------------+\n",
            "|InvoiceNo|StockCode|         Description|Quantity|     InvoiceDate|UnitPrice|CustomerID|       Country|\n",
            "+---------+---------+--------------------+--------+----------------+---------+----------+--------------+\n",
            "|   536365|   85123A|WHITE HANGING HEA...|       6|12/01/2010 08:26|     2.55|     17850|United Kingdom|\n",
            "|   536365|    71053| WHITE METAL LANTERN|       6|12/01/2010 08:26|     3.39|     17850|United Kingdom|\n",
            "|   536365|   84406B|CREAM CUPID HEART...|       8|12/01/2010 08:26|     2.75|     17850|United Kingdom|\n",
            "|   536365|   84029G|KNITTED UNION FLA...|       6|12/01/2010 08:26|     3.39|     17850|United Kingdom|\n",
            "|   536365|   84029E|RED WOOLLY HOTTIE...|       6|12/01/2010 08:26|     3.39|     17850|United Kingdom|\n",
            "+---------+---------+--------------------+--------+----------------+---------+----------+--------------+\n",
            "only showing top 5 rows\n",
            "\n"
          ]
        }
      ]
    },
    {
      "cell_type": "code",
      "source": [
        "data = data.dropna(subset=[\"Quantity\", \"UnitPrice\", \"CustomerID\"])\n",
        "\n",
        "# Filter out non-positive values (optional but common)\n",
        "data = data.filter((data.Quantity > 0) & (data.UnitPrice > 0))"
      ],
      "metadata": {
        "id": "JTmx4CM9cLYk"
      },
      "execution_count": null,
      "outputs": []
    },
    {
      "cell_type": "code",
      "source": [
        "assembler = VectorAssembler(inputCols=[\"Quantity\", \"UnitPrice\"], outputCol=\"features\")\n",
        "assembled = assembler.transform(data)"
      ],
      "metadata": {
        "id": "TM9EbfxQgoKC"
      },
      "execution_count": null,
      "outputs": []
    },
    {
      "cell_type": "code",
      "source": [
        "scaler = StandardScaler(inputCol=\"features\", outputCol=\"scaledFeatures\", withStd=True, withMean=False)\n",
        "scaled_model = scaler.fit(assembled)\n",
        "final_data = scaled_model.transform(assembled)"
      ],
      "metadata": {
        "id": "REuHcQzEgvpg"
      },
      "execution_count": null,
      "outputs": []
    },
    {
      "cell_type": "code",
      "source": [
        "kmeans = KMeans(featuresCol='scaledFeatures', k=4, seed=1)\n",
        "model = kmeans.fit(final_data)"
      ],
      "metadata": {
        "id": "JfkbdaOugy6Y"
      },
      "execution_count": null,
      "outputs": []
    },
    {
      "cell_type": "code",
      "source": [
        "predictions = model.transform(final_data)\n",
        "predictions.select(\"CustomerID\", \"Quantity\", \"UnitPrice\", \"prediction\").show(10)"
      ],
      "metadata": {
        "id": "iKVvuJrCg2G2",
        "colab": {
          "base_uri": "https://localhost:8080/"
        },
        "outputId": "34089a5b-8e18-4dd7-b83e-df1a0216643e"
      },
      "execution_count": null,
      "outputs": [
        {
          "output_type": "stream",
          "name": "stdout",
          "text": [
            "+----------+--------+---------+----------+\n",
            "|CustomerID|Quantity|UnitPrice|prediction|\n",
            "+----------+--------+---------+----------+\n",
            "|     17850|       6|     2.55|         0|\n",
            "|     17850|       6|     3.39|         0|\n",
            "|     17850|       8|     2.75|         0|\n",
            "|     17850|       6|     3.39|         0|\n",
            "|     17850|       6|     3.39|         0|\n",
            "|     17850|       2|     7.65|         3|\n",
            "|     17850|       6|     4.25|         0|\n",
            "|     17850|       6|     1.85|         0|\n",
            "|     17850|       6|     1.85|         0|\n",
            "|     13047|      32|     1.69|         0|\n",
            "+----------+--------+---------+----------+\n",
            "only showing top 10 rows\n",
            "\n"
          ]
        }
      ]
    },
    {
      "cell_type": "code",
      "source": [
        "evaluator = ClusteringEvaluator(featuresCol='scaledFeatures', metricName='silhouette', distanceMeasure='squaredEuclidean')\n",
        "score = evaluator.evaluate(predictions)\n",
        "\n",
        "print(f\"Silhouette Score = {score:.3f}\")\n",
        "\n",
        "centers = model.clusterCenters()\n",
        "print(\"Cluster Centers:\")\n",
        "for i, center in enumerate(centers):\n",
        "    print(f\"Cluster {i}: {center}\")"
      ],
      "metadata": {
        "id": "Nb9i2tmEg4r4",
        "colab": {
          "base_uri": "https://localhost:8080/"
        },
        "outputId": "4a11b060-1d85-48c6-e15f-6dcceb574247"
      },
      "execution_count": null,
      "outputs": [
        {
          "output_type": "stream",
          "name": "stdout",
          "text": [
            "Silhouette Score = 0.678\n",
            "Cluster Centers:\n",
            "Cluster 0: [0.29898707 0.38062989]\n",
            "Cluster 1: [2.72598419e-02 2.92902030e+01]\n",
            "Cluster 2: [12.16879344  0.22828607]\n",
            "Cluster 3: [0.08580147 1.54068214]\n"
          ]
        }
      ]
    }
  ]
}